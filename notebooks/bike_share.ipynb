{
 "cells": [
  {
   "cell_type": "code",
   "execution_count": 84,
   "id": "202c5a91-bf40-488a-8562-5fa4cb5a1780",
   "metadata": {},
   "outputs": [],
   "source": [
    "import matplotlib.pyplot as plt\n",
    "import pandas as pd\n",
    "import random\n",
    "from datetime import datetime, timedelta\n"
   ]
  },
  {
   "cell_type": "markdown",
   "id": "74d1158b-7459-4279-a608-7f2625555a16",
   "metadata": {},
   "source": [
    "# Bike Share Model\n"
   ]
  },
  {
   "cell_type": "markdown",
   "id": "8c31a329-0724-4b3d-9682-bc42501d3c1e",
   "metadata": {},
   "source": [
    "## Scope:"
   ]
  },
  {
   "cell_type": "markdown",
   "id": "d70043ed-b83e-4c5e-9255-bfb65b5993db",
   "metadata": {},
   "source": [
    "Olin College and Wellesley College use the Bike Share system to travel between the two colleges, which are approximately 3 miles apart.\n",
    "The Bike Share has 12 bikes and 2 bike racks.  One bike rack at each college that can fit up to 12 bikes each.\n",
    "\n",
    "The simulation needs to keep track of how many bikes are at each college.  To do that, a class BikeShare will be written.  To move bikes between locations:\n",
    "\n",
    "Initial instance:\n",
    "bikeshare = Bikeshare(olin=10, wellesley=2)\n",
    "\n",
    "Move a bike from Olin to Wellesley\n",
    "> bikeshare.move_bike('olin', 'wellesley')\n",
    "\n",
    "Move 3 bikes from Olin to Wellesley\n",
    "> bikeshare.move_bikes('olin', 'wellesley', 3)\n",
    "\n",
    "\n",
    "Attempt to move 5 bikes from Wellesley to Olin (will fail if not enough bikes at Wellesley)\n",
    "> bikeshare.move_bikes('wellesley', 'olin', 5)\n",
    "\n"
   ]
  },
  {
   "cell_type": "code",
   "execution_count": 123,
   "id": "b58f3c56-29bc-4086-ab46-c9afd645c41d",
   "metadata": {},
   "outputs": [],
   "source": [
    "class BikeShare:\n",
    "    \"\"\"\n",
    "    A class to represent a bikeshare system with multiple locations.\n",
    "\n",
    "    Attributes\n",
    "    ----------\n",
    "    olin : int\n",
    "        Number of bikes available at the Olin location.\n",
    "    wellesley : int\n",
    "        Number of bikes available at the Wellesley location.\n",
    "\n",
    "    Methods\n",
    "    -------\n",
    "    move_bikes(from_location, to_location, number):\n",
    "        Moves a specified number of bikes from one location to another if available.\n",
    "\n",
    "    bike_to_wellesley():\n",
    "        Moves one bike from Olin to Wellesley, if available, and prints the action and updated totals.\n",
    "\n",
    "    bike_to_olin():\n",
    "        Moves one bike from Wellesley to Olin, if available, and prints the action and updated totals.\n",
    "    \"\"\"\n",
    "\n",
    "    def __init__(self, olin, wellesley):\n",
    "        \"\"\"\n",
    "        Initializes the Bikeshare object with the number of bikes at each location.\n",
    "\n",
    "        Parameters\n",
    "        ----------\n",
    "        olin : int\n",
    "            Initial number of bikes at the Olin location.\n",
    "        wellesley : int\n",
    "            Initial number of bikes at the Wellesley location.\n",
    "        \"\"\"\n",
    "        self.olin = olin\n",
    "        self.wellesley = wellesley\n",
    "\n",
    "    def move_bikes(self, from_location, to_location, number):\n",
    "        \"\"\"\n",
    "        Moves a specified number of bikes from one location to another, if available.\n",
    "\n",
    "        Parameters\n",
    "        ----------\n",
    "        from_location : str\n",
    "            The location from which bikes will be moved (e.g., 'olin' or 'wellesley').\n",
    "        to_location : str\n",
    "            The location to which bikes will be moved (e.g., 'olin' or 'wellesley').\n",
    "        number : int\n",
    "            The number of bikes to move.\n",
    "\n",
    "        Returns\n",
    "        -------\n",
    "        None\n",
    "        \"\"\"\n",
    "        if getattr(self, from_location) >= number:\n",
    "            setattr(self, from_location, getattr(self, from_location) - number)\n",
    "            setattr(self, to_location, getattr(self, to_location) + number)\n",
    "            print(f'Moved {number} bikes from {from_location} to {to_location}.')\n",
    "        else:\n",
    "            print(f'Not enough bikes available at {from_location}to move {number} bikes.')\n",
    "\n",
    "    def bike_to_wellesley(self):\n",
    "        \"\"\"\n",
    "        Moves one bike from Olin to Wellesley, if available.\n",
    "\n",
    "        This method checks if there is at least one bike at Olin. If so, it moves\n",
    "        one bike from Olin to Wellesley, prints the action, and then prints the \n",
    "        updated totals at each location. If there are no bikes at Olin, it \n",
    "        prints a message indicating the action cannot be completed.\n",
    "        \n",
    "        Returns\n",
    "        -------\n",
    "        None\n",
    "        \"\"\"\n",
    "        if self.olin >= 1:\n",
    "            self.olin -= 1\n",
    "            self.wellesley += 1\n",
    "            return (\"Moved 1 bike from Olin to Wellesley.\")\n",
    "        else:\n",
    "            return (\"Not enough bikes at Olin to move to Wellesley.\")\n",
    "        \n",
    "        # Print the updated totals\n",
    "        print(f\"Total bikes - Olin: {self.olin}, Wellesley: {self.wellesley}\")\n",
    "\n",
    "    def bike_to_olin(self):\n",
    "        \"\"\"\n",
    "        Moves one bike from Wellesley to Olin, if available.\n",
    "\n",
    "        This method checks if there is at least one bike at Wellesley. If so, it moves\n",
    "        one bike from Wellesley to Olin, prints the action, and then prints the \n",
    "        updated totals at each location. If there are no bikes at Wellesley, it \n",
    "        prints a message indicating the action cannot be completed.\n",
    "        \n",
    "        Returns\n",
    "        -------\n",
    "        None\n",
    "        \"\"\"\n",
    "        if self.wellesley >= 1:\n",
    "            self.wellesley -= 1\n",
    "            self.olin += 1\n",
    "            return (\"Moved 1 bike from Wellesley to Olin.\")\n",
    "        else:\n",
    "            return (\"Not enough bikes at Wellesley to move to Olin.\")\n",
    "\n",
    "        # Print the updated totals\n",
    "        print(f\"Total bikes = Olin: {self.olin}, Wellesley: {self.wellesley}\")\n",
    "\n",
    "    def random_move(self):\n",
    "        \"\"\"Picks a random number and moves a bike depending on the numbe generated.\"\"\"\n",
    "        number = random.random()\n",
    "        if number < 0.35:\n",
    "            print(f\"Number: {number:.2f}\")\n",
    "            result = self.bike_to_olin()\n",
    "            \n",
    "        elif number < 0.80:\n",
    "            print(f\"Number: {number:.2f}\")\n",
    "            result = self.bike_to_wellesley()\n",
    "            \n",
    "        else:\n",
    "            print(f\"Number: {number:.2f}\")\n",
    "            print(\"No bikes were shared.\")\n",
    "            result = \"No bikes were shared\"\n",
    "            \n",
    "        print(f\"Random number: {number:.2f}, Action: {result}\")  # Debug print\n",
    "        return result\n",
    "\n",
    "    def __repr__(self):\n",
    "        \"\"\"\n",
    "        Returns a string representation of the Bikeshare object.\n",
    "\n",
    "        Returns\n",
    "        -------\n",
    "        str\n",
    "            A string displaying the number of bikes at each location.\n",
    "        \"\"\"\n",
    "        return f'Bikeshare(olin={self.olin}, wellesley={self.wellesley})'\n",
    "        "
   ]
  },
  {
   "cell_type": "markdown",
   "id": "38a23c4c-33c7-4256-8d78-0f3de2ef0f55",
   "metadata": {},
   "source": [
    "### Create an instance as the initial bikes in the system."
   ]
  },
  {
   "cell_type": "code",
   "execution_count": 124,
   "id": "aa248e77-1fb1-413a-aace-3db39f1d60f8",
   "metadata": {},
   "outputs": [],
   "source": [
    "bikeshare = BikeShare(olin = 10, wellesley = 2)"
   ]
  },
  {
   "cell_type": "markdown",
   "id": "10c7499f-2122-4dc0-b59f-152624ba80c5",
   "metadata": {},
   "source": [
    "#### To retrieve the number of bikes located at either location, use the __dot operator__"
   ]
  },
  {
   "cell_type": "code",
   "execution_count": 125,
   "id": "e503b989-df09-472a-9a88-3adc4c525229",
   "metadata": {},
   "outputs": [
    {
     "name": "stdout",
     "output_type": "stream",
     "text": [
      "Olin: 10\n",
      "Wellesley: 2\n"
     ]
    }
   ],
   "source": [
    "print(f'Olin: {bikeshare.olin}')\n",
    "print(f'Wellesley: {bikeshare.wellesley}')"
   ]
  },
  {
   "cell_type": "markdown",
   "id": "ff5f026e-aa17-4e87-bc03-c043e31f10b3",
   "metadata": {},
   "source": [
    "#### To display all the variables and values:\n"
   ]
  },
  {
   "cell_type": "code",
   "execution_count": 126,
   "id": "5e6ad56d-3588-4671-8fc0-10ef61b0928d",
   "metadata": {},
   "outputs": [
    {
     "data": {
      "text/plain": [
       "Bikeshare(olin=10, wellesley=2)"
      ]
     },
     "execution_count": 126,
     "metadata": {},
     "output_type": "execute_result"
    }
   ],
   "source": [
    "bikeshare"
   ]
  },
  {
   "cell_type": "markdown",
   "id": "61d09661-4134-4fd9-881e-a5ecd46faceb",
   "metadata": {},
   "source": [
    "#### Create a Table using matplotlib.pyplot"
   ]
  },
  {
   "cell_type": "code",
   "execution_count": 127,
   "id": "00c968da-1fde-4866-af0b-5045c3cf70f4",
   "metadata": {},
   "outputs": [
    {
     "data": {
      "image/png": "[encoded data removed]",
      "text/plain": [
       "<Figure size 640x480 with 1 Axes>"
      ]
     },
     "metadata": {},
     "output_type": "display_data"
    }
   ],
   "source": [
    "# Data for the table\n",
    "data = [[\"Olin\", bikeshare.olin], [\"Wellesley\", bikeshare.wellesley]]\n",
    "\n",
    "# Create a figure and axis\n",
    "fig, ax = plt.subplots()\n",
    "\n",
    "# Hide the axes\n",
    "ax.axis('off')\n",
    "ax.axis('tight')\n",
    "\n",
    "# Create the table\n",
    "table = ax.table(cellText=data, colLabels=[\"Location\", \"Number of Bikes\"], cellLoc='center', loc='center')\n",
    "\n",
    "# Adjust layout and display\n",
    "table.auto_set_font_size(False)\n",
    "table.set_fontsize(12)\n",
    "table.scale(1.2, 1.2)\n",
    "fig.tight_layout()\n",
    "\n",
    "# Show the table\n",
    "plt.show()"
   ]
  },
  {
   "cell_type": "markdown",
   "id": "c69935d0-020c-4f07-af3a-def986e50cab",
   "metadata": {},
   "source": [
    "#### **Adjustments to BikeShare Values**\n",
    "\n",
    "Two students move a bike (each) from Olin to Wellesley:"
   ]
  },
  {
   "cell_type": "code",
   "execution_count": 128,
   "id": "0ed03b27-fcc7-46cf-9e61-2b47b251aa27",
   "metadata": {},
   "outputs": [
    {
     "name": "stdout",
     "output_type": "stream",
     "text": [
      "Moved 2 bikes from olin to wellesley.\n",
      "Bikeshare(olin=8, wellesley=4)\n"
     ]
    }
   ],
   "source": [
    "bikeshare.move_bikes('olin', 'wellesley', 2)\n",
    "print(bikeshare)\n"
   ]
  },
  {
   "cell_type": "markdown",
   "id": "60912bb9-63cc-4def-b5b3-564ee99a92c0",
   "metadata": {},
   "source": [
    "#### Use the dot operator to change values"
   ]
  },
  {
   "cell_type": "code",
   "execution_count": 129,
   "id": "3f088577-cc78-4eff-ae86-e14f4c5e8b25",
   "metadata": {},
   "outputs": [
    {
     "name": "stdout",
     "output_type": "stream",
     "text": [
      "Bikeshare(olin=9, wellesley=3)\n"
     ]
    }
   ],
   "source": [
    "bikeshare.olin = 9\n",
    "bikeshare.wellesley = 3\n",
    "print(bikeshare)"
   ]
  },
  {
   "cell_type": "markdown",
   "id": "d87357b2-304f-45ca-88f9-d3c1de4e2fd9",
   "metadata": {},
   "source": [
    "#### Use update operator to change values"
   ]
  },
  {
   "cell_type": "code",
   "execution_count": 130,
   "id": "d8aeafc9-96bd-4fef-b477-befba02fdab7",
   "metadata": {},
   "outputs": [
    {
     "name": "stdout",
     "output_type": "stream",
     "text": [
      "Bikeshare(olin=8, wellesley=4)\n"
     ]
    }
   ],
   "source": [
    "bikeshare.olin -= 1\n",
    "bikeshare.wellesley += 1\n",
    "print(bikeshare)"
   ]
  },
  {
   "cell_type": "markdown",
   "id": "2015e4c3-f51d-415a-8c41-6e8cebff4099",
   "metadata": {},
   "source": [
    "#### Use function to add a single value to wellesley and olin"
   ]
  },
  {
   "cell_type": "code",
   "execution_count": 131,
   "id": "fb829e96-9ff6-4ae8-a0b3-0fb5af6715f1",
   "metadata": {},
   "outputs": [
    {
     "data": {
      "text/plain": [
       "'Moved 1 bike from Olin to Wellesley.'"
      ]
     },
     "execution_count": 131,
     "metadata": {},
     "output_type": "execute_result"
    }
   ],
   "source": [
    "bikeshare.bike_to_wellesley()"
   ]
  },
  {
   "cell_type": "code",
   "execution_count": 132,
   "id": "b37bff02-3a65-4c14-8c7d-17007e87267e",
   "metadata": {},
   "outputs": [
    {
     "data": {
      "text/plain": [
       "'Moved 1 bike from Wellesley to Olin.'"
      ]
     },
     "execution_count": 132,
     "metadata": {},
     "output_type": "execute_result"
    }
   ],
   "source": [
    "bikeshare.bike_to_olin()"
   ]
  },
  {
   "cell_type": "markdown",
   "id": "c3563829-6729-4eca-bdff-d184dabb7ff8",
   "metadata": {},
   "source": [
    "#### Random function picks one of three scenarios on moving bikes"
   ]
  },
  {
   "cell_type": "code",
   "execution_count": 133,
   "id": "b0f33b49-de90-4336-a213-4b110c79fd78",
   "metadata": {},
   "outputs": [
    {
     "name": "stdout",
     "output_type": "stream",
     "text": [
      "Number: 0.66\n",
      "Random number: 0.66, Action: Moved 1 bike from Olin to Wellesley.\n"
     ]
    },
    {
     "data": {
      "text/plain": [
       "'Moved 1 bike from Olin to Wellesley.'"
      ]
     },
     "execution_count": 133,
     "metadata": {},
     "output_type": "execute_result"
    }
   ],
   "source": [
    "bikeshare.random_move()"
   ]
  },
  {
   "cell_type": "code",
   "execution_count": 134,
   "id": "e7f7a7d6-c545-4ff6-b04d-631e4d1c7d6c",
   "metadata": {},
   "outputs": [
    {
     "name": "stdout",
     "output_type": "stream",
     "text": [
      "Number: 0.19\n",
      "Random number: 0.19, Action: Moved 1 bike from Wellesley to Olin.\n"
     ]
    },
    {
     "data": {
      "text/plain": [
       "'Moved 1 bike from Wellesley to Olin.'"
      ]
     },
     "execution_count": 134,
     "metadata": {},
     "output_type": "execute_result"
    }
   ],
   "source": [
    "bikeshare.random_move()"
   ]
  },
  {
   "cell_type": "code",
   "execution_count": 135,
   "id": "45e1c1f8-49df-427c-97be-a6ded845e39d",
   "metadata": {},
   "outputs": [
    {
     "name": "stdout",
     "output_type": "stream",
     "text": [
      "Number: 0.97\n",
      "No bikes were shared.\n",
      "Random number: 0.97, Action: No bikes were shared\n"
     ]
    },
    {
     "data": {
      "text/plain": [
       "'No bikes were shared'"
      ]
     },
     "execution_count": 135,
     "metadata": {},
     "output_type": "execute_result"
    }
   ],
   "source": [
    "bikeshare.random_move()"
   ]
  },
  {
   "cell_type": "code",
   "execution_count": 136,
   "id": "9be47530-83bb-4685-a592-9b1da2d7725c",
   "metadata": {},
   "outputs": [
    {
     "name": "stdout",
     "output_type": "stream",
     "text": [
      "Number: 0.25\n",
      "Random number: 0.25, Action: Moved 1 bike from Wellesley to Olin.\n"
     ]
    },
    {
     "data": {
      "text/plain": [
       "'Moved 1 bike from Wellesley to Olin.'"
      ]
     },
     "execution_count": 136,
     "metadata": {},
     "output_type": "execute_result"
    }
   ],
   "source": [
    "bikeshare.random_move()"
   ]
  },
  {
   "cell_type": "code",
   "execution_count": 137,
   "id": "fecd0f53-d9b0-4d0b-9b10-e2af1d54576d",
   "metadata": {},
   "outputs": [
    {
     "name": "stdout",
     "output_type": "stream",
     "text": [
      "Number: 0.49\n",
      "Random number: 0.49, Action: Moved 1 bike from Olin to Wellesley.\n"
     ]
    },
    {
     "data": {
      "text/plain": [
       "'Moved 1 bike from Olin to Wellesley.'"
      ]
     },
     "execution_count": 137,
     "metadata": {},
     "output_type": "execute_result"
    }
   ],
   "source": [
    "bikeshare.random_move()"
   ]
  },
  {
   "cell_type": "code",
   "execution_count": 138,
   "id": "8866f812-9290-42f4-b251-cf39d7c8f405",
   "metadata": {},
   "outputs": [
    {
     "name": "stdout",
     "output_type": "stream",
     "text": [
      "Number: 0.19\n",
      "Random number: 0.19, Action: Moved 1 bike from Wellesley to Olin.\n"
     ]
    },
    {
     "data": {
      "text/plain": [
       "'Moved 1 bike from Wellesley to Olin.'"
      ]
     },
     "execution_count": 138,
     "metadata": {},
     "output_type": "execute_result"
    }
   ],
   "source": [
    "bikeshare.random_move()"
   ]
  },
  {
   "cell_type": "code",
   "execution_count": 139,
   "id": "c0cb6ee5-e978-4f4c-b1a0-fdc577c8087b",
   "metadata": {},
   "outputs": [
    {
     "name": "stdout",
     "output_type": "stream",
     "text": [
      "Number: 0.99\n",
      "No bikes were shared.\n",
      "Random number: 0.99, Action: No bikes were shared\n"
     ]
    },
    {
     "data": {
      "text/plain": [
       "'No bikes were shared'"
      ]
     },
     "execution_count": 139,
     "metadata": {},
     "output_type": "execute_result"
    }
   ],
   "source": [
    "bikeshare.random_move()"
   ]
  },
  {
   "cell_type": "markdown",
   "id": "f1704994-0223-43b6-86f6-d5e220f20faa",
   "metadata": {},
   "source": [
    "#### Use a List Comprehension to generate a loop of random_move"
   ]
  },
  {
   "cell_type": "code",
   "execution_count": 141,
   "id": "3e09ffc0-d3d6-4f77-9158-db2d65edea79",
   "metadata": {},
   "outputs": [
    {
     "name": "stdout",
     "output_type": "stream",
     "text": [
      "Number: 0.79\n",
      "Random number: 0.79, Action: Moved 1 bike from Olin to Wellesley.\n",
      "Number: 0.45\n",
      "Random number: 0.45, Action: Moved 1 bike from Olin to Wellesley.\n",
      "Number: 0.95\n",
      "No bikes were shared.\n",
      "Random number: 0.95, Action: No bikes were shared\n",
      "Number: 0.39\n",
      "Random number: 0.39, Action: Moved 1 bike from Olin to Wellesley.\n",
      "Number: 0.27\n",
      "Random number: 0.27, Action: Moved 1 bike from Wellesley to Olin.\n",
      "Number: 0.77\n",
      "Random number: 0.77, Action: Moved 1 bike from Olin to Wellesley.\n",
      "Number: 0.45\n",
      "Random number: 0.45, Action: Moved 1 bike from Olin to Wellesley.\n",
      "Number: 0.63\n",
      "Random number: 0.63, Action: Moved 1 bike from Olin to Wellesley.\n",
      "Number: 0.38\n",
      "Random number: 0.38, Action: Moved 1 bike from Olin to Wellesley.\n",
      "Number: 0.28\n",
      "Random number: 0.28, Action: Moved 1 bike from Wellesley to Olin.\n",
      "Number: 0.22\n",
      "Random number: 0.22, Action: Moved 1 bike from Wellesley to Olin.\n"
     ]
    },
    {
     "data": {
      "image/png": "[encoded data removed]",
      "text/plain": [
       "<Figure size 1000x550 with 1 Axes>"
      ]
     },
     "metadata": {},
     "output_type": "display_data"
    }
   ],
   "source": [
    "# Generate the data with list comprehension\n",
    "n = 11  # Number of time series entries\n",
    "start_time = datetime.now()\n",
    "timestamps = [start_time + timedelta(minutes=i) for i in range(n)]\n",
    "actions = [bikeshare.random_move() for _ in range(n)]\n",
    "\n",
    "# Create the DataFrame\n",
    "time_series_df = pd.DataFrame({\"Timestamp\": timestamps, \"Action\": actions})\n",
    "time_series_df.set_index(\"Timestamp\", inplace=True)\n",
    "\n",
    "# Plotting the table with matplotlib\n",
    "fig, ax = plt.subplots(figsize=(10, len(time_series_df) * 0.5))  # Adjust height based on the number of entries\n",
    "ax.axis('off')  # Hide the axis\n",
    "\n",
    "# Create the table\n",
    "table = ax.table(\n",
    "    cellText=time_series_df.values,                 # Data values\n",
    "    colLabels=time_series_df.columns,               # Column headers\n",
    "    rowLabels=time_series_df.index.strftime('%Y-%m-%d %H:%M:%S'),  # Formatted index\n",
    "    cellLoc='center',                               # Center-align cells\n",
    "    loc='center'                                    # Center the table in the figure\n",
    ")\n",
    "\n",
    "# Adjust the table for readability\n",
    "table.auto_set_font_size(False)\n",
    "table.set_fontsize(10)\n",
    "table.scale(1.2, 1.2)\n",
    "\n",
    "# Add title and show the plot\n",
    "plt.title(\"Bikeshare Random Move Actions Over Time\")\n",
    "plt.show()\n"
   ]
  },
  {
   "cell_type": "code",
   "execution_count": 142,
   "id": "40570ac5-f35f-46f2-9bf0-fe363e3f3534",
   "metadata": {},
   "outputs": [
    {
     "name": "stdout",
     "output_type": "stream",
     "text": [
      "Bikeshare(olin=2, wellesley=10)\n"
     ]
    }
   ],
   "source": [
    "print(bikeshare)\n"
   ]
  },
  {
   "cell_type": "code",
   "execution_count": null,
   "id": "5626d4ff-26ea-442c-b529-3c96afd35e5c",
   "metadata": {},
   "outputs": [],
   "source": []
  }
 ],
 "metadata": {
  "kernelspec": {
   "display_name": "Python 3 (ipykernel)",
   "language": "python",
   "name": "python3"
  },
  "language_info": {
   "codemirror_mode": {
    "name": "ipython",
    "version": 3
   },
   "file_extension": ".py",
   "mimetype": "text/x-python",
   "name": "python",
   "nbconvert_exporter": "python",
   "pygments_lexer": "ipython3",
   "version": "3.12.7"
  }
 },
 "nbformat": 4,
 "nbformat_minor": 5
}
